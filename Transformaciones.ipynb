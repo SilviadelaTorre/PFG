{
 "cells": [
  {
   "cell_type": "code",
   "execution_count": null,
   "metadata": {},
   "outputs": [],
   "source": [
    "import os\n",
    "import pandas as pd"
   ]
  },
  {
   "cell_type": "code",
   "execution_count": 25,
   "metadata": {},
   "outputs": [],
   "source": [
    "def merge_csv_files_in_directory(directory,output):\n",
    "    dfs = []\n",
    "    for root, _, files in os.walk(directory):\n",
    "        for file in files:\n",
    "            if file.endswith('.csv'):\n",
    "                filepath = os.path.join(root, file)\n",
    "                df = pd.read_csv(filepath)\n",
    "                dfs.append(df)\n",
    "    merged_df = dfs[0]\n",
    "    \n",
    "    for df in dfs[1:]:\n",
    "        merged_df = pd.merge(merged_df, df, on=['ID_RIO', 'coord_TRAMO'], how='inner')\n",
    "    \n",
    "    merged_df.to_csv(output, index=False)"
   ]
  },
  {
   "cell_type": "code",
   "execution_count": 26,
   "metadata": {},
   "outputs": [],
   "source": [
    "def verificar_permisos_directorio(directory):\n",
    "    # Verificar si el directorio existe\n",
    "    if not os.path.exists(directory):\n",
    "        print(f\"El directorio {directory} no existe.\")\n",
    "        return False\n",
    "    \n",
    "    # Verificar permisos de lectura\n",
    "    if not os.access(directory, os.R_OK):\n",
    "        print(f\"No tienes permisos de lectura para el directorio {directory}.\")\n",
    "        return False\n",
    "    \n",
    "    # Verificar permisos de escritura\n",
    "    if not os.access(directory, os.W_OK):\n",
    "        print(f\"No tienes permisos de escritura para el directorio {directory}.\")\n",
    "        return False\n",
    "    \n",
    "    # Verificar permisos de ejecución\n",
    "    if not os.access(directory, os.X_OK):\n",
    "        print(f\"No tienes permisos de ejecución para el directorio {directory}.\")\n",
    "        return False\n",
    "    \n",
    "    print(f\"Tienes permisos completos para acceder al directorio {directory}.\")\n",
    "    return True"
   ]
  },
  {
   "cell_type": "code",
   "execution_count": null,
   "metadata": {},
   "outputs": [],
   "source": []
  },
  {
   "cell_type": "code",
   "execution_count": 27,
   "metadata": {},
   "outputs": [
    {
     "name": "stdout",
     "output_type": "stream",
     "text": [
      "Tienes permisos completos para acceder al directorio /Users/silviadelatorre/Desktop/TFG/PFG/Results/VALORES CONTAMINACION/ATLANTICO.\n",
      "[]\n",
      "          ID_RIO                  coord_TRAMO  valor_Fosfato  valor_Nitrato  \\\n",
      "0          10034  (823091.6071, 4736100.5283)        0.00560         1.0605   \n",
      "1          10034  (807702.0344, 4738426.8291)        0.00459         1.5600   \n",
      "2          10034    (805142.39, 4751389.2164)        0.01748         1.1355   \n",
      "3          10034    (805142.39, 4751389.2164)        0.01748         1.1355   \n",
      "4       10034996  (803804.7411, 4750624.8265)        0.01748         1.1355   \n",
      "...          ...                          ...            ...            ...   \n",
      "325643  10099922  (267441.0379, 3990306.2624)        0.02500         0.7325   \n",
      "325644  10099922   (267173.9276, 3989732.971)        0.02500         0.7325   \n",
      "325645  10099924   (269586.4743, 3991970.456)        0.02500         0.5660   \n",
      "325646  10099924  (269126.9504, 3991275.7842)        0.02500         0.5660   \n",
      "325647  10099924  (268623.9496, 3990807.9608)        0.02500         0.7325   \n",
      "\n",
      "        valor_Grado Trofico  valor_Fitobentos  valor_Fosforo  valor_Amonio  \n",
      "0                    1.9200              19.3         0.0048       0.01000  \n",
      "1                    0.8500              16.4         0.0157       0.16275  \n",
      "2                    0.8500              16.4         0.0157       0.02400  \n",
      "3                    0.8500              16.4         0.0157       0.02400  \n",
      "4                    0.8500              16.4         0.0157       0.02400  \n",
      "...                     ...               ...            ...           ...  \n",
      "325643               2.8265               6.4         2.1900       0.05350  \n",
      "325644               2.8265               6.4         2.1900       0.05350  \n",
      "325645               2.8265               6.4         2.1900       0.05350  \n",
      "325646               2.8265               6.4         2.1900       0.05350  \n",
      "325647               2.8265               6.4         2.1900       0.05350  \n",
      "\n",
      "[325648 rows x 8 columns]\n",
      "Tienes permisos completos para acceder al directorio /Users/silviadelatorre/Desktop/TFG/PFG/Results/VALORES CONTAMINACION/MEDITERRANEO.\n",
      "[]\n",
      "           ID_RIO                  coord_TRAMO  valor_Fosfato  valor_Nitrato  \\\n",
      "0        20011112  (268823.9426, 3990345.4563)          0.025         0.5660   \n",
      "1        20011112  (268412.6746, 3989667.9248)          0.025         0.7325   \n",
      "2        20011112  (268348.9132, 3988869.4124)          0.025         0.7325   \n",
      "3       200111132  (268836.4348, 3989895.4539)          0.025         0.5660   \n",
      "4       200111132  (268914.5713, 3989544.1179)          0.025         0.5660   \n",
      "...           ...                          ...            ...            ...   \n",
      "196006      22184  (287403.1153, 3972411.4271)          0.025         0.5660   \n",
      "196007      22184  (287423.8732, 3972432.7465)          0.025         0.5660   \n",
      "196008      22188  (286436.9116, 3973782.7564)          0.025         0.5660   \n",
      "196009      22188  (286953.5246, 3973394.4594)          0.025         0.5660   \n",
      "196010      22188  (286949.4217, 3972882.7464)          0.025         0.5660   \n",
      "\n",
      "        valor_Grado Trofico  valor_Fitobentos  valor_Fosforo  valor_Amonio  \n",
      "0                    2.8265               6.4           2.19        0.0535  \n",
      "1                    2.8265               6.4           2.19        0.0535  \n",
      "2                    2.8265               6.4           2.19        0.0535  \n",
      "3                    2.8265               6.4           2.19        0.0535  \n",
      "4                    2.8265               6.4           2.19        0.0535  \n",
      "...                     ...               ...            ...           ...  \n",
      "196006               2.8265               6.4           2.19        0.0535  \n",
      "196007               2.8265               6.4           2.19        0.0535  \n",
      "196008               2.8265               6.4           2.19        0.0535  \n",
      "196009               2.8265               6.4           2.19        0.0535  \n",
      "196010               2.8265               6.4           2.19        0.0535  \n",
      "\n",
      "[196011 rows x 8 columns]\n"
     ]
    }
   ],
   "source": [
    "# UNIR TABLAS EN UNA SOLA\n",
    "# Directorios de vertientes\n",
    "vertientes_directorios = ['/Users/silviadelatorre/Desktop/TFG/PFG/Results/VALORES CONTAMINACION/ATLANTICO', '/Users/silviadelatorre/Desktop/TFG/PFG/Results/VALORES CONTAMINACION/MEDITERRANEO']\n",
    "output_file = [\"/Users/silviadelatorre/Desktop/TFG/PFG/Results/VALORES CONTAMINACION/ATLANTICO/ContaminacionAtlantico.csv\",\"/Users/silviadelatorre/Desktop/TFG/PFG/Results/VALORES CONTAMINACION/MEDITERRANEO/ContaminacionMediterraneo.csv\"]\n",
    "\n",
    "# Iterar sobre cada vertiente\n",
    "for vertiente in vertientes_directorios:\n",
    "    verificar_permisos_directorio(vertiente)\n",
    "    for salida in output_file:\n",
    "        merged_df = merge_csv_files_in_directory(vertiente,salida)"
   ]
  }
 ],
 "metadata": {
  "kernelspec": {
   "display_name": "Python 3",
   "language": "python",
   "name": "python3"
  },
  "language_info": {
   "codemirror_mode": {
    "name": "ipython",
    "version": 3
   },
   "file_extension": ".py",
   "mimetype": "text/x-python",
   "name": "python",
   "nbconvert_exporter": "python",
   "pygments_lexer": "ipython3",
   "version": "3.12.0"
  },
  "orig_nbformat": 4
 },
 "nbformat": 4,
 "nbformat_minor": 2
}
